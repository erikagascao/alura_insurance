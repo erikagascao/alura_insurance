{
 "cells": [
  {
   "cell_type": "code",
   "execution_count": 4,
   "metadata": {},
   "outputs": [],
   "source": [
    "import numpy as np"
   ]
  },
  {
   "cell_type": "code",
   "execution_count": 5,
   "metadata": {},
   "outputs": [],
   "source": [
    "id=np.arange(1,101)"
   ]
  },
  {
   "cell_type": "code",
   "execution_count": 6,
   "metadata": {},
   "outputs": [],
   "source": [
    "idade=np.random.randint(18,101,100)"
   ]
  },
  {
   "cell_type": "code",
   "execution_count": 7,
   "metadata": {},
   "outputs": [],
   "source": [
    "lista_sexo = np.array(['F', 'M'])\n",
    "sexo = np.random.choice(lista_sexo, 100)"
   ]
  },
  {
   "cell_type": "code",
   "execution_count": 8,
   "metadata": {},
   "outputs": [],
   "source": [
    "lista_estado_civil = np.array(['solteiro', 'casado', 'divorciado', 'viuvo'])\n",
    "estado_civil = np.random.choice(lista_estado_civil, 100)"
   ]
  },
  {
   "cell_type": "code",
   "execution_count": 9,
   "metadata": {},
   "outputs": [],
   "source": [
    "sinistro=np.random.randint(0,2,100)"
   ]
  },
  {
   "cell_type": "code",
   "execution_count": 20,
   "metadata": {},
   "outputs": [],
   "source": [
    "premio=np.random.randint(0,1000001,100)/100"
   ]
  },
  {
   "cell_type": "code",
   "execution_count": 33,
   "metadata": {},
   "outputs": [],
   "source": [
    "#np.savetxt('premio_teste.txt', premio)\n",
    "#np.loadtxt('premio_teste.txt')"
   ]
  },
  {
   "cell_type": "code",
   "execution_count": 11,
   "metadata": {},
   "outputs": [
    {
     "data": {
      "text/plain": [
       "87"
      ]
     },
     "execution_count": 11,
     "metadata": {},
     "output_type": "execute_result"
    }
   ],
   "source": [
    "#exercicio 2\n",
    "contador=0\n",
    "for i in idade:\n",
    "    if i>30:\n",
    "        contador+=1\n",
    "contador"
   ]
  },
  {
   "cell_type": "code",
   "execution_count": 22,
   "metadata": {},
   "outputs": [
    {
     "data": {
      "text/plain": [
       "[array([2.00000e+00, 8.18673e+03, 0.00000e+00]),\n",
       " array([4.00000e+00, 7.25753e+03, 0.00000e+00]),\n",
       " array([   8.  , 1485.52,    0.  ]),\n",
       " array([   9.  , 5928.11,    0.  ]),\n",
       " array([  10.  , 8479.11,    0.  ]),\n",
       " array([  13.  , 1410.24,    0.  ]),\n",
       " array([  14.  , 5538.62,    0.  ]),\n",
       " array([  17.  , 3836.02,    0.  ]),\n",
       " array([  19.  , 9033.87,    0.  ]),\n",
       " array([  23.  , 3802.76,    0.  ]),\n",
       " array([  24.  , 7852.68,    0.  ]),\n",
       " array([  26.  , 5976.66,    0.  ]),\n",
       " array([  29.  , 8765.28,    0.  ]),\n",
       " array([  30.  , 9737.64,    0.  ]),\n",
       " array([  33. , 6217.1,    0. ]),\n",
       " array([  34.  , 6814.61,    0.  ]),\n",
       " array([  39.  , 2927.76,    0.  ]),\n",
       " array([  40.  , 2300.22,    0.  ]),\n",
       " array([  42.  , 8017.65,    0.  ]),\n",
       " array([  43.  , 7911.59,    0.  ]),\n",
       " array([  44.  , 4530.26,    0.  ]),\n",
       " array([  45.  , 1720.38,    0.  ]),\n",
       " array([  46.  , 5062.06,    0.  ]),\n",
       " array([  47.  , 6285.49,    0.  ]),\n",
       " array([  49.  , 4897.95,    0.  ]),\n",
       " array([  50. , 8541.5,    0. ]),\n",
       " array([  53.  , 3582.75,    0.  ]),\n",
       " array([  54.  , 2713.25,    0.  ]),\n",
       " array([  57.  , 9004.35,    0.  ]),\n",
       " array([  59.  , 3790.36,    0.  ]),\n",
       " array([  63.  , 8831.56,    0.  ]),\n",
       " array([  66. , 1037.3,    0. ]),\n",
       " array([  67.  , 6607.54,    0.  ]),\n",
       " array([  69.  , 4331.13,    0.  ]),\n",
       " array([  71.  , 9940.31,    0.  ]),\n",
       " array([  72.  , 6773.14,    0.  ]),\n",
       " array([  77.  , 5365.65,    0.  ]),\n",
       " array([  78.  , 8472.54,    0.  ]),\n",
       " array([  80.  , 8651.23,    0.  ]),\n",
       " array([  84.  , 9308.73,    0.  ]),\n",
       " array([  89.  , 1045.45,    0.  ]),\n",
       " array([  90.  , 7284.99,    0.  ]),\n",
       " array([  92.  , 3561.11,    0.  ]),\n",
       " array([  93.  , 8894.01,    0.  ]),\n",
       " array([  95.  , 9699.78,    0.  ]),\n",
       " array([  96.  , 6570.36,    0.  ]),\n",
       " array([  98.  , 8107.79,    0.  ])]"
      ]
     },
     "execution_count": 22,
     "metadata": {},
     "output_type": "execute_result"
    }
   ],
   "source": [
    "#exercicio 3\n",
    "base=np.column_stack([id, premio, sinistro])\n",
    "lista=[]\n",
    "for i in base:\n",
    "    if i[1]>1000 and i[2]==0:\n",
    "        lista.append(i)\n",
    "lista"
   ]
  }
 ],
 "metadata": {
  "kernelspec": {
   "display_name": "Python 3",
   "language": "python",
   "name": "python3"
  },
  "language_info": {
   "codemirror_mode": {
    "name": "ipython",
    "version": 3
   },
   "file_extension": ".py",
   "mimetype": "text/x-python",
   "name": "python",
   "nbconvert_exporter": "python",
   "pygments_lexer": "ipython3",
   "version": "3.11.0"
  },
  "orig_nbformat": 4
 },
 "nbformat": 4,
 "nbformat_minor": 2
}
